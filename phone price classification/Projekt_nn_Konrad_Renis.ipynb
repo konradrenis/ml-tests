{
 "cells": [
  {
   "cell_type": "code",
   "execution_count": null,
   "id": "95d22683",
   "metadata": {},
   "outputs": [],
   "source": [
    "import numpy as np\n",
    "import pandas as pd\n",
    "import sklearn\n",
    "import tensorflow as tf\n",
    "from tensorflow import keras\n",
    "from tensorflow.keras import regularizers\n",
    "from tensorflow.keras.models import load_model\n",
    "from tensorflow.keras.callbacks import ModelCheckpoint\n",
    "from sklearn import datasets\n",
    "from sklearn.preprocessing import OneHotEncoder\n",
    "from sklearn.model_selection import train_test_split\n",
    "import matplotlib.pyplot as plt\n",
    "from matplotlib import cm\n",
    "from matplotlib.ticker import LinearLocator, FormatStrFormatter\n",
    "from mpl_toolkits.mplot3d import Axes3D\n",
    "from math import sqrt, log10\n",
    "import os.path\n",
    "from sklearn.metrics import confusion_matrix\n"
   ]
  },
  {
   "cell_type": "code",
   "execution_count": null,
   "id": "5bcf44b6",
   "metadata": {},
   "outputs": [],
   "source": [
    "phone_data = pd.read_csv(\"telefony.csv\", sep=',') "
   ]
  },
  {
   "cell_type": "code",
   "execution_count": null,
   "id": "c660e8cd",
   "metadata": {},
   "outputs": [],
   "source": [
    "print(phone_data.shape)"
   ]
  },
  {
   "cell_type": "code",
   "execution_count": null,
   "id": "c966d436",
   "metadata": {},
   "outputs": [],
   "source": [
    "X = phone_data.iloc[:, 0:20]"
   ]
  },
  {
   "cell_type": "code",
   "execution_count": null,
   "id": "52b1cb49",
   "metadata": {},
   "outputs": [],
   "source": [
    "y = phone_data[\"price_range\"]"
   ]
  },
  {
   "cell_type": "code",
   "execution_count": null,
   "id": "8d354937",
   "metadata": {},
   "outputs": [],
   "source": [
    "enc = OneHotEncoder(handle_unknown='ignore')\n",
    "enc.fit(y.to_numpy().reshape(-1,1))\n",
    "Y = enc.transform(y.to_numpy().reshape(-1,1)).toarray()"
   ]
  },
  {
   "cell_type": "code",
   "execution_count": null,
   "id": "741dc342",
   "metadata": {},
   "outputs": [],
   "source": [
    "X_train, X_vt, Y_train, Y_vt = train_test_split(X.to_numpy(), Y, test_size=0.3, random_state=1)"
   ]
  },
  {
   "cell_type": "code",
   "execution_count": null,
   "id": "48fe9a54",
   "metadata": {},
   "outputs": [],
   "source": [
    "X_test, X_val, Y_test, Y_val = train_test_split(X_vt, Y_vt, test_size=0.5, random_state=1)"
   ]
  },
  {
   "cell_type": "code",
   "execution_count": null,
   "id": "84ba3ad6",
   "metadata": {},
   "outputs": [],
   "source": [
    "number_of_neurons=201\n",
    "number_of_layers=46\n",
    "n_skip=5\n",
    "l_skip=5\n",
    "n_min = 5\n",
    "l_min= 5"
   ]
  },
  {
   "cell_type": "code",
   "execution_count": null,
   "id": "8bb72183",
   "metadata": {},
   "outputs": [],
   "source": [
    "for n in range(n_min,number_of_neurons,n_skip):\n",
    "    for l in range(l_min,number_of_layers,l_skip):\n",
    "        model = tf.keras.Sequential()\n",
    "        name=\"saved/\"+\"n\"+str(n)+\"l\"+str(l)+\".hdf5\"\n",
    "        file_exists = os.path.exists(name)\n",
    "        if not file_exists:\n",
    "            for x in range(l):\n",
    "                model.add(tf.keras.layers.Dense(n, activation='relu', input_shape=(20,),kernel_regularizer=regularizers.L2(0.01)))\n",
    "            model.add(tf.keras.layers.Dense(4, activation='softmax'))\n",
    "\n",
    "            model.compile(optimizer='adam', loss='categorical_crossentropy', metrics = ['accuracy'])\n",
    "\n",
    "            checkpoint = ModelCheckpoint(name, monitor='val_accuracy', verbose=1, save_best_only=True, mode='auto', period=1)\n",
    "            history = model.fit(X_train, Y_train, epochs=100, validation_data=(X_val, Y_val),callbacks=[checkpoint])"
   ]
  },
  {
   "cell_type": "code",
   "execution_count": null,
   "id": "ae7ae268",
   "metadata": {},
   "outputs": [],
   "source": [
    "best_n=0\n",
    "best_l=0\n",
    "best_acc=0\n",
    "best_m=0\n",
    "i=0\n",
    "r = {'n':[],'l':[],'test_acc':[],'test_loss':[],'train_acc':[],'train_loss':[],'val_acc':[],'val_loss':[],'m':[],'m2':[]}\n",
    "results = pd.DataFrame(r)\n",
    "\n",
    "for n in range(1,500,1):\n",
    "    for l in range(1,120,1):\n",
    "        name=\"saved/\"+\"n\"+str(n)+\"l\"+str(l)+\".hdf5\"\n",
    "        file_exists = os.path.exists(name)\n",
    "        if file_exists:\n",
    "            model2 = load_model(name)\n",
    "            eva_test = model2.evaluate(X_test, Y_test)\n",
    "            test_acc=eva_test[1]\n",
    "            test_loss=eva_test[0]\n",
    "\n",
    "            eva_train = model2.evaluate(X_train, Y_train)\n",
    "            train_acc=eva_train[1]\n",
    "            train_loss=eva_train[0]\n",
    "\n",
    "            eva_val = model2.evaluate(X_val, Y_val)\n",
    "            val_acc=eva_val[1]\n",
    "            val_loss=eva_val[0]\n",
    "\n",
    "            m=((test_acc)**5*(train_acc)*(val_acc)**2)/(1+(test_loss)**5+(train_loss)+(val_loss)**2)\n",
    "            m2=2*m/(log10(100+l*sqrt(n)))\n",
    "\n",
    "            results.loc[i,:]=[n,l,test_acc,test_loss,train_acc,train_loss,val_acc,val_loss,m,m2]\n",
    "            i+=1\n",
    "            if m > best_m:\n",
    "                best_m = m\n",
    "                best_n = n\n",
    "                best_l = l"
   ]
  },
  {
   "cell_type": "code",
   "execution_count": null,
   "id": "79e79bc5",
   "metadata": {},
   "outputs": [],
   "source": [
    "name=\"saved/\"+\"n\"+str(best_n)+\"l\"+str(best_l)+\".hdf5\""
   ]
  },
  {
   "cell_type": "code",
   "execution_count": null,
   "id": "7fb5ccb6",
   "metadata": {},
   "outputs": [],
   "source": [
    "model3 = load_model(name)"
   ]
  },
  {
   "cell_type": "code",
   "execution_count": null,
   "id": "9c86d3c4",
   "metadata": {},
   "outputs": [],
   "source": [
    "model3.evaluate(X_test, Y_test)"
   ]
  },
  {
   "cell_type": "code",
   "execution_count": null,
   "id": "6d2e3cf2",
   "metadata": {},
   "outputs": [],
   "source": [
    "model3.evaluate(X_train, Y_train)"
   ]
  },
  {
   "cell_type": "code",
   "execution_count": null,
   "id": "be281942",
   "metadata": {},
   "outputs": [],
   "source": [
    "results"
   ]
  },
  {
   "cell_type": "code",
   "execution_count": null,
   "id": "2a582d31",
   "metadata": {},
   "outputs": [],
   "source": [
    "best_l"
   ]
  },
  {
   "cell_type": "code",
   "execution_count": null,
   "id": "f6c52afa",
   "metadata": {},
   "outputs": [],
   "source": [
    "results = results.drop(results[results.m2 < 0.55].index)"
   ]
  },
  {
   "cell_type": "code",
   "execution_count": null,
   "id": "2985621f",
   "metadata": {},
   "outputs": [],
   "source": [
    "threedee = plt.figure().gca(projection='3d')\n",
    "threedee.scatter(results['n'], results['l'], results['m2'])\n",
    "threedee.set_xlabel('neurons')\n",
    "threedee.set_ylabel('layers')\n",
    "threedee.set_zlabel('m value')\n",
    "plt.show()"
   ]
  },
  {
   "cell_type": "code",
   "execution_count": null,
   "id": "997c8174",
   "metadata": {},
   "outputs": [],
   "source": []
  },
  {
   "cell_type": "code",
   "execution_count": null,
   "id": "7bb3c80b",
   "metadata": {
    "scrolled": true
   },
   "outputs": [],
   "source": [
    "results"
   ]
  },
  {
   "cell_type": "code",
   "execution_count": null,
   "id": "da78a6d7",
   "metadata": {},
   "outputs": [],
   "source": [
    "model3.save('najlepszymodel/n50l35.hdf5')"
   ]
  },
  {
   "cell_type": "code",
   "execution_count": null,
   "id": "23c9039d",
   "metadata": {},
   "outputs": [],
   "source": [
    "model4 = load_model('saved/n10l10.hdf5')"
   ]
  },
  {
   "cell_type": "code",
   "execution_count": null,
   "id": "3a72bef5",
   "metadata": {},
   "outputs": [],
   "source": [
    "Y_pred = np.argmax(model4.predict(X),axis=1)"
   ]
  },
  {
   "cell_type": "code",
   "execution_count": null,
   "id": "8d9aa13b",
   "metadata": {},
   "outputs": [],
   "source": [
    "Y_testch = np.argmax(Y,axis=1)"
   ]
  },
  {
   "cell_type": "code",
   "execution_count": null,
   "id": "9c8268b4",
   "metadata": {},
   "outputs": [],
   "source": [
    "tf.math.confusion_matrix(Y_testch, Y_pred)"
   ]
  },
  {
   "cell_type": "code",
   "execution_count": null,
   "id": "d87f31c6",
   "metadata": {},
   "outputs": [],
   "source": [
    "# Najlepsze wyniki sieci, gdzie liczba warstw <=3\n",
    "results2 = results.drop(results[results.l > 3].index)\n",
    "results2 = results2.drop(results2[results2.m < 0.09].index)\n",
    "\n",
    "results2"
   ]
  },
  {
   "cell_type": "code",
   "execution_count": null,
   "id": "11432029",
   "metadata": {
    "scrolled": false
   },
   "outputs": [],
   "source": [
    "results2 = results.drop(results[results.m < 0.7].index)\n",
    "results2"
   ]
  }
 ],
 "metadata": {
  "kernelspec": {
   "display_name": "Python 3 (ipykernel)",
   "language": "python",
   "name": "python3"
  },
  "language_info": {
   "codemirror_mode": {
    "name": "ipython",
    "version": 3
   },
   "file_extension": ".py",
   "mimetype": "text/x-python",
   "name": "python",
   "nbconvert_exporter": "python",
   "pygments_lexer": "ipython3",
   "version": "3.9.7"
  }
 },
 "nbformat": 4,
 "nbformat_minor": 5
}
